{
  "nbformat": 4,
  "nbformat_minor": 0,
  "metadata": {
    "colab": {
      "name": "Pythone_Crsh_Course.ipynb",
      "provenance": [],
      "collapsed_sections": []
    },
    "kernelspec": {
      "name": "python3",
      "display_name": "Python 3"
    },
    "language_info": {
      "name": "python"
    }
  },
  "cells": [
    {
      "cell_type": "code",
      "metadata": {
        "colab": {
          "base_uri": "https://localhost:8080/"
        },
        "id": "dO2CkyYPje6_",
        "outputId": "4415d7e9-9786-4708-9c05-be9fc067252f"
      },
      "source": [
        "print(\"Shahbaz Khan\")\n",
        "x=\"Hello World\"\n",
        "x[1:8]  #This is get index between 1 to 8 \n",
        "print(x)\n",
        "\n",
        "a = 20 \n",
        "b = \"Shahbaz Khan\"\n",
        "p = \"My Name Is {} And Age is {}\".format(a,b) #it print wrong place like \"my name is 20 and age is Shahbaz Khan then follow below\"\n",
        "print(p)\n",
        "p = \"My Name Is {1} And Age is {0}\".format(a,b)\n",
        "print(p) \n",
        "\n",
        "p = f\"My Name Is {b} And Age is {a}\"\n",
        "print(p)\n",
        "\n",
        "A = [\"Shahbaz\",20]\n",
        "p = f\"\\nMy Name Is {A[0]} And Age is {A[1]}\"\n",
        "print(p)\n",
        "\n",
        "#LIST\n",
        "\n",
        "A = [\"White\",\"zaryab\",\"Blue\",\"Black\",\"Orange\"]\n",
        "A.pop() #POP Print last array element \n",
        "len(A) \n",
        "A.remove(\"Black\")\n",
        "A.append(\"Yellow\") #it add element in last of the array\n",
        "#del A #it dlete the array or list\n",
        "A.sort()\n",
        "print(A)\n",
        "\n",
        "# dir(list)\n",
        "\n",
        "\n",
        "#tuples\n",
        "\n",
        "b = {\"White\",\"zaryab\",\"Blue\",\"Black\",\"Orange\"}\n",
        "b.remove(\"zaryab\")\n",
        "print(b)\n",
        "\n",
        "#dictionary\n",
        "\n",
        "a = {'ID':1, \"name\":\"Shahbaz\",'Section':'6B'}\n",
        "a[\"ID\"] #get value through property\n",
        "\n",
        "a['ID'] = 9 #It replace the value of ID\n",
        "a[\"ID\"]\n",
        "\n",
        "a[\"Fall\"] = 2021 #add into dictionary\n",
        "a.popitem() #it delete the last item of the dictionary \n",
        "print(a)\n"
      ],
      "execution_count": null,
      "outputs": [
        {
          "output_type": "stream",
          "text": [
            "Shahbaz Khan\n",
            "Hello World\n",
            "My Name Is 20 And Age is Shahbaz Khan\n",
            "My Name Is Shahbaz Khan And Age is 20\n",
            "My Name Is Shahbaz Khan And Age is 20\n",
            "\n",
            "My Name Is Shahbaz And Age is 20\n",
            "['Blue', 'White', 'Yellow', 'zaryab']\n",
            "{'Black', 'White', 'Orange', 'Blue'}\n",
            "{'ID': 9, 'name': 'Shahbaz', 'Section': '6B'}\n"
          ],
          "name": "stdout"
        }
      ]
    },
    {
      "cell_type": "markdown",
      "metadata": {
        "id": "kn2F5y0WwroO"
      },
      "source": [
        ""
      ]
    },
    {
      "cell_type": "code",
      "metadata": {
        "id": "rwhTemcNdolJ",
        "colab": {
          "base_uri": "https://localhost:8080/"
        },
        "outputId": "ee7f9376-8bc3-4004-c05f-3e4c393bebcc"
      },
      "source": [
        "# W3 School\n",
        "# Operators\n",
        "\"\"\"\n",
        "1. Arithmetic Operators\n",
        "2. Assignment Operators \n",
        "3. Comparision Operators \n",
        "4. Logical Operators\n",
        "5. Identity Operators \n",
        "6. Membership Operators \n",
        "7. Bitwise Operators\n",
        "\"\"\"\n",
        "# How to make function\n",
        "Shah= \"Shahbaz Khan\"\n",
        "def shah():\n",
        "  print(Shah)\n",
        "shah()\n",
        "\n",
        "x = \"fantastic\"\n",
        "\n",
        "def myfunc():\n",
        "  global x\n",
        "  x = \"Awesome\"\n",
        "  print(\"Python is \" + x)\n",
        "\n",
        "myfunc()\n",
        "\n",
        "print(\"Python is \" + x)\n",
        "\n",
        "s = 4\n",
        "s = complex(s)\n",
        "print(s)\n",
        "\n",
        "length = len(\"Shahbaz\")\n",
        "print(\"The length of name is: \",length)\n",
        "\n",
        "# Find work in String \n",
        "txt = \"The best things in life are free!\"\n",
        "if \"free\" in txt:\n",
        "  print(\"Yes, 'free' is present.\")\n",
        "\n",
        "# print only if \"expensive\" is NOT present:\n",
        "txt = \"The best things in life are free!\"\n",
        "if \"expensive\" not in txt:\n",
        "  print(\"Yes, 'expensive' is NOT present.\")\n",
        "\n",
        "# The strip() method removes any whitespace from the beginning or the end:\n",
        "a = \" Hello, World! \"\n",
        "print(a.strip()) # returns \"Hello, World!\"\n",
        "\n",
        "# The split() method splits the string into substrings if it finds instances of the separator:\n",
        "a = \"Hello, World!\"\n",
        "print(a.split(\",\")) # returns ['Hello', ' World!']\n",
        "\n",
        "# Concatenation\n",
        "a =\"Shahabz\"\n",
        "b=\"Khan\"\n",
        "c = a+\" \" +b\n",
        "print(c)\n",
        "\n",
        "# Use the format() method to insert numbers into strings:\n",
        "# 1 age = 36\n",
        "# 2 txt = \"My name is John, I am \" + age\n",
        "# above age within the String is wrong formate see below correction\n",
        "age = 36\n",
        "txt = \"My name is John, and I am {}\"\n",
        "print(txt.format(age))\n",
        "# Exmple of formate\n",
        "quantity = 3\n",
        "itemno = 567\n",
        "price = 49.95\n",
        "myorder = \"I want {} pieces of item {} for {} dollars.\"\n",
        "print(myorder.format(quantity, itemno, price))\n",
        "\n",
        "e=\"Shahbaz\"\n",
        "print(e.expandtabs())\n",
        "\n",
        "# Python Collections (Arrays)\n",
        "# There are four collection data types in the Python programming language:\n",
        "\n",
        "# 'List' is a collection which is ordered and changeable. Allows duplicate members.\n",
        "# 'Tuple' is a collection which is ordered and unchangeable. Allows duplicate members.\n",
        "# 'Set' is a collection which is unordered and unindexed. No duplicate members.\n",
        "# 'Dictionary' is a collection which is ordered* and changeable. No duplicate members.\n",
        "\n",
        "#Insert \"watermelon\" as the third item:\n",
        "thislist = [\"apple\", \"banana\", \"cherry\"]\n",
        "thislist.insert(2, \"watermelon\")\n",
        "print(thislist) \n",
        "\n",
        "# Using the append() method to append an item:\n",
        "thislist = [\"apple\", \"banana\", \"cherry\"]\n",
        "thislist.append(\"orange\")\n",
        "print(thislist)\n",
        "\n",
        "# Add the elements of tropical to thislist: compine both lists\n",
        "thislist = [\"apple\", \"banana\", \"cherry\"]\n",
        "tropical = [\"mango\", \"pineapple\", \"papaya\"]\n",
        "thislist.extend(tropical)\n",
        "print(thislist)\n",
        "\n",
        "# Remove the first item:\n",
        "thislist = [\"apple\", \"banana\", \"cherry\"]\n",
        "del thislist[0]\n",
        "print(thislist)\n",
        "\n",
        "# Clear the list content:\n",
        "thislist = [\"apple\", \"banana\", \"cherry\"]\n",
        "thislist.clear()\n",
        "print(thislist)\n",
        "\n",
        "# For loop\n",
        "for x in \"Shahbaz\":\n",
        "  print(x)\n",
        "print(\"\\n\")\n",
        "for x in range(10):\n",
        "  print(x)\n",
        "\n",
        "# Print all items, using a while loop to go through all the index numbers\n",
        "thislist = [\"apple\", \"banana\", \"cherry\"]\n",
        "i = 0\n",
        "while i < len(thislist):\n",
        "  print(thislist[i])\n",
        "  i = i + 1\n",
        "\n",
        "x = 0\n",
        "while x < 10:\n",
        "  print(x)\n",
        "  x = x + 1\n",
        "\n",
        "# A short hand for loop that will print all items in a list:\n",
        "thislist = [\"apple\", \"banana\", \"cherry\"]\n",
        "[print(x) for x in thislist]\n",
        "\n",
        "# If a has any index then store in new list\n",
        "fruits = [\"apple\", \"banana\", \"cherry\", \"kiwi\", \"mango\"]\n",
        "newlist = []\n",
        "for x in fruits:\n",
        "  if \"a\" in x:\n",
        "    newlist.append(x)\n",
        "    newlist.sort(reverse= True)  #\"IT make reverse the list\"\n",
        "\n",
        "print(newlist)\n",
        "\n",
        "# Make a copy of a list with the copy() method:\n",
        "thislist = [\"apple\", \"banana\", \"cherry\"]\n",
        "mylist = thislist.copy()\n",
        "print(mylist)\n",
        "\n",
        "# Make a copy of a list with the list() method:\n",
        "thislist = [\"apple\", \"banana\", \"cherry\"]\n",
        "mylist = list(thislist)\n",
        "print(mylist) \n",
        "\n",
        "# combine 2 lists\n",
        "list1 = [1, 2, 3]\n",
        "list2 = ['Shahbaz', 'Ali', 'Waqas']\n",
        "for x in list2:\n",
        "  list1.append(x)\n",
        "  print(list1)\n",
        "\n",
        "\n",
        "# Sets\n",
        "# The union() method returns a new set with all items from both sets:\n",
        "set1 = {\"a\", \"b\" , \"c\"}\n",
        "set2 = {1, 2, 3}\n",
        "set3 = set1.union(set2)\n",
        "print(set3)\n",
        "\n",
        "\n",
        "# Copyright © 2021 ShahbazKhan. All Rights Reserved\n",
        "\n",
        "\n",
        "\n"
      ],
      "execution_count": 5,
      "outputs": [
        {
          "output_type": "stream",
          "name": "stdout",
          "text": [
            "Shahbaz Khan\n",
            "Python is Awesome\n",
            "Python is Awesome\n",
            "(4+0j)\n",
            "The length of name is:  7\n",
            "Yes, 'free' is present.\n",
            "Yes, 'expensive' is NOT present.\n",
            "Hello, World!\n",
            "['Hello', ' World!']\n",
            "Shahabz Khan\n",
            "My name is John, and I am 36\n",
            "I want 3 pieces of item 567 for 49.95 dollars.\n",
            "Shahbaz\n",
            "['apple', 'banana', 'watermelon', 'cherry']\n",
            "['apple', 'banana', 'cherry', 'orange']\n",
            "['apple', 'banana', 'cherry', 'mango', 'pineapple', 'papaya']\n",
            "['banana', 'cherry']\n",
            "[]\n",
            "S\n",
            "h\n",
            "a\n",
            "h\n",
            "b\n",
            "a\n",
            "z\n",
            "\n",
            "\n",
            "0\n",
            "1\n",
            "2\n",
            "3\n",
            "4\n",
            "5\n",
            "6\n",
            "7\n",
            "8\n",
            "9\n",
            "apple\n",
            "banana\n",
            "cherry\n",
            "0\n",
            "1\n",
            "2\n",
            "3\n",
            "4\n",
            "5\n",
            "6\n",
            "7\n",
            "8\n",
            "9\n",
            "apple\n",
            "banana\n",
            "cherry\n",
            "['mango', 'banana', 'apple']\n",
            "['apple', 'banana', 'cherry']\n",
            "['apple', 'banana', 'cherry']\n",
            "[1, 2, 3, 'Shahbaz']\n",
            "[1, 2, 3, 'Shahbaz', 'Ali']\n",
            "[1, 2, 3, 'Shahbaz', 'Ali', 'Waqas']\n",
            "{'c', 1, 2, 'a', 3, 'b'}\n"
          ]
        }
      ]
    },
    {
      "cell_type": "markdown",
      "metadata": {
        "id": "OXWM0ETJgM2-"
      },
      "source": [
        "\n"
      ]
    },
    {
      "cell_type": "code",
      "metadata": {
        "id": "DO6EIV4sgNnX",
        "colab": {
          "base_uri": "https://localhost:8080/",
          "height": 35
        },
        "outputId": "12598a84-238b-4247-a458-8b751d8f01fb"
      },
      "source": [
        "a = \"OBJECT DETECTION AND TRACKING RESULTS \"\n",
        "a.capitalize()"
      ],
      "execution_count": null,
      "outputs": [
        {
          "output_type": "execute_result",
          "data": {
            "application/vnd.google.colaboratory.intrinsic+json": {
              "type": "string"
            },
            "text/plain": [
              "'Object detection and tracking results '"
            ]
          },
          "metadata": {},
          "execution_count": 4
        }
      ]
    },
    {
      "cell_type": "code",
      "metadata": {
        "id": "tG9DxE-ndolZ"
      },
      "source": [
        ""
      ],
      "execution_count": null,
      "outputs": []
    },
    {
      "cell_type": "code",
      "metadata": {
        "id": "zH5vtUkyPKrY"
      },
      "source": [
        ""
      ],
      "execution_count": null,
      "outputs": []
    },
    {
      "cell_type": "markdown",
      "metadata": {
        "id": "7uuUq1cukUy0"
      },
      "source": [
        ""
      ]
    }
  ]
}